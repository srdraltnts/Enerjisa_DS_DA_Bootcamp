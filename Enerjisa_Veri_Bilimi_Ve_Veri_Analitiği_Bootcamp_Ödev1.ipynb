{
 "cells": [
  {
   "cell_type": "markdown",
   "metadata": {},
   "source": [
    "# ÖDEV_1"
   ]
  },
  {
   "cell_type": "code",
   "execution_count": 15,
   "metadata": {},
   "outputs": [],
   "source": [
    "#Ödevin geri kalanında gerekli olacak kütüphanelerin eklenmesi adımı\n",
    "\n",
    "import numpy as np\n",
    "import seaborn as sb\n",
    "import pandas as pd"
   ]
  },
  {
   "cell_type": "markdown",
   "metadata": {},
   "source": [
    "## SORU_1\n",
    "\n",
    "Pandas kütüphanesi ile bir DataFrame oluşturup içine Levels of measurementsları nominal , ordinal , interval ve ratio olan kolonlar ekleyelim."
   ]
  },
  {
   "cell_type": "markdown",
   "metadata": {},
   "source": [
    "## CEVAP_1"
   ]
  },
  {
   "cell_type": "code",
   "execution_count": 16,
   "metadata": {},
   "outputs": [
    {
     "data": {
      "text/html": [
       "<div>\n",
       "<style scoped>\n",
       "    .dataframe tbody tr th:only-of-type {\n",
       "        vertical-align: middle;\n",
       "    }\n",
       "\n",
       "    .dataframe tbody tr th {\n",
       "        vertical-align: top;\n",
       "    }\n",
       "\n",
       "    .dataframe thead th {\n",
       "        text-align: right;\n",
       "    }\n",
       "</style>\n",
       "<table border=\"1\" class=\"dataframe\">\n",
       "  <thead>\n",
       "    <tr style=\"text-align: right;\">\n",
       "      <th></th>\n",
       "      <th>Name</th>\n",
       "      <th>Position</th>\n",
       "      <th>Did_He_Play</th>\n",
       "      <th>Last_Game_Rating</th>\n",
       "      <th>Age</th>\n",
       "    </tr>\n",
       "  </thead>\n",
       "  <tbody>\n",
       "    <tr>\n",
       "      <th>0</th>\n",
       "      <td>Ahmet</td>\n",
       "      <td>GK</td>\n",
       "      <td>Yes</td>\n",
       "      <td>8.1</td>\n",
       "      <td>27</td>\n",
       "    </tr>\n",
       "    <tr>\n",
       "      <th>1</th>\n",
       "      <td>Mehmet</td>\n",
       "      <td>DF</td>\n",
       "      <td>Yes</td>\n",
       "      <td>7.0</td>\n",
       "      <td>32</td>\n",
       "    </tr>\n",
       "    <tr>\n",
       "      <th>2</th>\n",
       "      <td>Serdar</td>\n",
       "      <td>DMF</td>\n",
       "      <td>No</td>\n",
       "      <td>0.0</td>\n",
       "      <td>19</td>\n",
       "    </tr>\n",
       "    <tr>\n",
       "      <th>3</th>\n",
       "      <td>Mustafa</td>\n",
       "      <td>OMF</td>\n",
       "      <td>Yes</td>\n",
       "      <td>6.7</td>\n",
       "      <td>24</td>\n",
       "    </tr>\n",
       "    <tr>\n",
       "      <th>4</th>\n",
       "      <td>Veli</td>\n",
       "      <td>ST</td>\n",
       "      <td>No</td>\n",
       "      <td>7.9</td>\n",
       "      <td>23</td>\n",
       "    </tr>\n",
       "  </tbody>\n",
       "</table>\n",
       "</div>"
      ],
      "text/plain": [
       "      Name Position Did_He_Play  Last_Game_Rating  Age\n",
       "0    Ahmet       GK         Yes               8.1   27\n",
       "1   Mehmet       DF         Yes               7.0   32\n",
       "2   Serdar      DMF          No               0.0   19\n",
       "3  Mustafa      OMF         Yes               6.7   24\n",
       "4     Veli       ST          No               7.9   23"
      ]
     },
     "execution_count": 16,
     "metadata": {},
     "output_type": "execute_result"
    }
   ],
   "source": [
    "#Bir futbol takımındaki oyuncuların bilgileri esas alınarak oluşturulmuş bir DataFrame'dir\n",
    "#Bu DataFrame'de Position->Nominal, Age->Ratio, Last_Game_Rating-> Interval ve Did_He_Play->Ordinal sıralama ölçütü olarak belirtilmiştir. \n",
    "\n",
    "Players = { 'Name': ['Ahmet' , 'Mehmet', 'Serdar' , 'Mustafa' , 'Veli'],\n",
    "            'Position': ['GK' , 'DF' , 'DMF' , 'OMF' , 'ST' ],\n",
    "            'Did_He_Play': ['Yes' , 'Yes' , 'No' , 'Yes' , 'No' ] ,\n",
    "            'Last_Game_Rating': [8.1 , 7.0 , 0.0 , 6.7 , 7.9], \n",
    "            'Age': [27,32,19,24,23]\n",
    "          }\n",
    "\n",
    "df = pd.DataFrame(Players)\n",
    "df"
   ]
  },
  {
   "cell_type": "markdown",
   "metadata": {},
   "source": [
    "## SORU_2\n",
    "\n",
    "Ekli verisetinde bulunan DataFrame'e ait radius_mean , area_mean ve compactness_mean kolonlarının count , mean , std , min , 25% , 50% , 75% , max değerlerini ve IQR metodu ile outlier durumda kalan veri sayılarını çıkartıp bu değerleri sözel ve karşılaştırmalı olarak yorumlayalım."
   ]
  },
  {
   "cell_type": "markdown",
   "metadata": {},
   "source": [
    "## CEVAP_2"
   ]
  },
  {
   "cell_type": "code",
   "execution_count": null,
   "metadata": {},
   "outputs": [],
   "source": []
  },
  {
   "cell_type": "markdown",
   "metadata": {},
   "source": [
    "## SORU_3\n",
    "\n",
    "Ekli verisetinde bulunan DataFrame'e ait radius_mean , area_mean ve compactness_mean kolonlarının birbiriyle olan korelasyonlarını , kovaryanslarını , Pearson Correlation Coefficient larını , Spearman Rank Coefficient larını ve Effect Size larını bularak sözel ve karşılaştırmalı olarak yorumlayalım."
   ]
  },
  {
   "cell_type": "markdown",
   "metadata": {},
   "source": [
    "## CEVAP_3"
   ]
  },
  {
   "cell_type": "code",
   "execution_count": null,
   "metadata": {},
   "outputs": [],
   "source": []
  },
  {
   "cell_type": "markdown",
   "metadata": {},
   "source": [
    "## SORU_4\n",
    "\n",
    "Bayes Teoreminin gerçek hayatta karşımıza çıkan ve kullanılan örneklerinden 5 tane bulalım."
   ]
  },
  {
   "cell_type": "markdown",
   "metadata": {},
   "source": [
    "## CEVAP_4\n"
   ]
  },
  {
   "cell_type": "code",
   "execution_count": null,
   "metadata": {},
   "outputs": [],
   "source": []
  },
  {
   "cell_type": "code",
   "execution_count": null,
   "metadata": {},
   "outputs": [],
   "source": []
  }
 ],
 "metadata": {
  "kernelspec": {
   "display_name": "Python 3",
   "language": "python",
   "name": "python3"
  },
  "language_info": {
   "codemirror_mode": {
    "name": "ipython",
    "version": 3
   },
   "file_extension": ".py",
   "mimetype": "text/x-python",
   "name": "python",
   "nbconvert_exporter": "python",
   "pygments_lexer": "ipython3",
   "version": "3.7.6"
  }
 },
 "nbformat": 4,
 "nbformat_minor": 4
}
